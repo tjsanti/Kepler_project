{
 "cells": [
  {
   "cell_type": "markdown",
   "metadata": {},
   "source": [
    "# Classifying exoplanets with Kepler data\n",
    "\n",
    "## Trevor Santiago\n",
    "\n",
    "#### Can we predict whether a record is an exoplanet or not given certain measurements?\n",
    "\n",
    "- How accurate can we do so?\n",
    "- What measurements are the most important for our prediction?\n",
    "\n",
    "\n",
    "[Data Source](https://www.kaggle.com/nasa/kepler-exoplanet-search-results)"
   ]
  },
  {
   "cell_type": "code",
   "execution_count": 1,
   "metadata": {},
   "outputs": [
    {
     "name": "stdout",
     "output_type": "stream",
     "text": [
      "Requirement already satisfied: scikit-learn in /opt/anaconda3/lib/python3.8/site-packages (0.24.1)\n",
      "Requirement already satisfied: joblib>=0.11 in /opt/anaconda3/lib/python3.8/site-packages (from scikit-learn) (1.0.0)\n",
      "Requirement already satisfied: numpy>=1.13.3 in /opt/anaconda3/lib/python3.8/site-packages (from scikit-learn) (1.19.2)\n",
      "Requirement already satisfied: scipy>=0.19.1 in /opt/anaconda3/lib/python3.8/site-packages (from scikit-learn) (1.5.2)\n",
      "Requirement already satisfied: threadpoolctl>=2.0.0 in /opt/anaconda3/lib/python3.8/site-packages (from scikit-learn) (2.1.0)\n",
      "Requirement already satisfied: xgboost in /opt/anaconda3/lib/python3.8/site-packages (1.3.3)\n",
      "Requirement already satisfied: numpy in /opt/anaconda3/lib/python3.8/site-packages (from xgboost) (1.19.2)\n",
      "Requirement already satisfied: scipy in /opt/anaconda3/lib/python3.8/site-packages (from xgboost) (1.5.2)\n"
     ]
    }
   ],
   "source": [
    "!pip install -U scikit-learn\n",
    "!pip install xgboost"
   ]
  },
  {
   "cell_type": "code",
   "execution_count": 2,
   "metadata": {},
   "outputs": [],
   "source": [
    "import numpy as np\n",
    "import pandas as pd\n",
    "\n",
    "from sklearn.model_selection import train_test_split\n",
    "from sklearn.preprocessing import *\n",
    "from sklearn.compose import ColumnTransformer\n",
    "from sklearn.decomposition import PCA\n",
    "from sklearn.impute import SimpleImputer\n",
    "from sklearn.metrics import log_loss, accuracy_score\n",
    "from sklearn.pipeline import Pipeline\n",
    "from sklearn.model_selection import RandomizedSearchCV\n",
    "from sklearn.inspection import permutation_importance\n",
    "from sklearn import set_config\n",
    "\n",
    "from sklearn.base import BaseEstimator, TransformerMixin\n",
    "from sklearn.linear_model import LogisticRegression\n",
    "from sklearn.ensemble import RandomForestClassifier, ExtraTreesClassifier, \\\n",
    "                            GradientBoostingClassifier, BaggingClassifier, \\\n",
    "                            StackingClassifier, VotingClassifier\n",
    "from sklearn.tree import DecisionTreeClassifier\n",
    "from sklearn.neighbors import KNeighborsClassifier\n",
    "\n",
    "from xgboost import XGBClassifier"
   ]
  },
  {
   "cell_type": "code",
   "execution_count": 3,
   "metadata": {},
   "outputs": [],
   "source": [
    "data = pd.read_csv('https://raw.githubusercontent.com/trevor-santiago/Kepler_project/main/cumulative.csv').drop(columns=['rowid'])"
   ]
  },
  {
   "cell_type": "code",
   "execution_count": 4,
   "metadata": {},
   "outputs": [],
   "source": [
    "# non-useful and data leakage columns\n",
    "non_inputs = [\n",
    "    'kepid', 'kepoi_name', 'kepler_name', \n",
    "    'koi_score', 'koi_tce_delivname', 'koi_fpflag_nt', \n",
    "    'koi_fpflag_ss', 'koi_fpflag_co', 'koi_fpflag_ec',\n",
    "    'koi_disposition', 'koi_pdisposition'\n",
    "]\n",
    "non_inputs.extend([col for col in data.columns if '_err' in col])"
   ]
  },
  {
   "cell_type": "markdown",
   "metadata": {},
   "source": [
    "# Set up features and label\n",
    "\n",
    "Our target `koi_pdisposition` is a string with values `\"CANDIDATE\"` and `\"FALSE POSITIVE\"`, so we need to encode it."
   ]
  },
  {
   "cell_type": "code",
   "execution_count": 5,
   "metadata": {},
   "outputs": [],
   "source": [
    "X = data.copy()\n",
    "y = data.koi_pdisposition.copy()\n",
    "y = LabelEncoder().fit_transform(y)"
   ]
  },
  {
   "cell_type": "markdown",
   "metadata": {},
   "source": [
    "### 3-way split data\n",
    "\n",
    "These sets will stay the same throughout to accurately compare models. Model performance on the test set will be checked once at the end."
   ]
  },
  {
   "cell_type": "code",
   "execution_count": 6,
   "metadata": {},
   "outputs": [],
   "source": [
    "X_train, X_test, y_train, y_test = train_test_split(X, y)\n",
    "X_train, X_val, y_train, y_val = train_test_split(X_train, y_train)"
   ]
  },
  {
   "cell_type": "markdown",
   "metadata": {},
   "source": [
    "# Modelling\n",
    "\n",
    "For each of our models we will drop the data leakage/unimportant columns (see above), impute any missing values with the median of the respective columns, scale the data, and then fit the model. \n",
    "\n",
    "Since there are no categorical variables and we are interested in the importance of each feature at the end, we will keep this Pipeline mostly the same throughout.\n",
    "\n",
    "Our main evaluation metric will be accuracy, but we will also take a look at log-loss to see the confidence of our models.\n",
    "\n",
    "## Baseline Model\n",
    "\n",
    "\n",
    "We'll start with a very basic model as a baseline to compare improvement of our future models. First we define our numeric and categorical columns for preprocessing steps. Then we define our main preprocessing pipelines that will be used throughout. Unimportant and data-leakage columns are discarded, then numeric and categorical columns are split to their respective sub-pipeline for processing."
   ]
  },
  {
   "cell_type": "code",
   "execution_count": 7,
   "metadata": {},
   "outputs": [],
   "source": [
    "num_cols = [\n",
    "    'koi_srad', 'koi_period', 'koi_time0bk',\n",
    "    'koi_impact', 'koi_duration', 'koi_depth',\n",
    "    'koi_prad', 'koi_teq', 'koi_insol',\n",
    "    'koi_model_snr', 'koi_steff', 'koi_slogg'\n",
    "]\n",
    "\n",
    "cat_cols = ['koi_kepmag', 'koi_tce_plnt_num']\n",
    "\n",
    "# Need to convert the above to indexes for ColumnTransformer\n",
    "num_cols = list(map(lambda x: int(np.where(data.columns == x)[0][0]), num_cols))\n",
    "cat_cols = list(map(lambda x: int(np.where(data.columns == x)[0][0]), cat_cols))"
   ]
  },
  {
   "cell_type": "code",
   "execution_count": 8,
   "metadata": {},
   "outputs": [],
   "source": [
    "num_prep = Pipeline([\n",
    "    ('imp', SimpleImputer(strategy='median')),\n",
    "    ('scale', RobustScaler())\n",
    "])\n",
    "\n",
    "# Bin koi_kepmag\n",
    "binner = ColumnTransformer([('bin', KBinsDiscretizer(), [0])], remainder='passthrough')\n",
    "cat_prep = Pipeline([\n",
    "    ('imp', SimpleImputer(strategy='most_frequent')),\n",
    "    ('bin', binner)\n",
    "])\n",
    "\n",
    "prepper = ColumnTransformer([\n",
    "    ('numeric', num_prep, num_cols),\n",
    "    ('categorical', cat_prep, cat_cols)\n",
    "], remainder='drop')"
   ]
  },
  {
   "cell_type": "code",
   "execution_count": 9,
   "metadata": {},
   "outputs": [],
   "source": [
    "model = Pipeline([\n",
    "    ('preprocess', prepper),\n",
    "    ('clf', KNeighborsClassifier())\n",
    "])"
   ]
  },
  {
   "cell_type": "code",
   "execution_count": 10,
   "metadata": {},
   "outputs": [
    {
     "name": "stdout",
     "output_type": "stream",
     "text": [
      "log loss: 1.75887\n",
      "Accuracy: 79.4%\n"
     ]
    }
   ],
   "source": [
    "model.fit(X_train, y_train)\n",
    "\n",
    "# Use prediction probabilities for log-loss\n",
    "y_pred_probs = model.predict_proba(X_val)\n",
    "\n",
    "# Get predictions from probabilities above\n",
    "y_pred = np.argmax(y_pred_probs, axis=1)\n",
    "\n",
    "loss = log_loss(y_val, y_pred_probs)\n",
    "acc = accuracy_score(y_val, y_pred)\n",
    "print(f'log loss: {loss:.5f}')\n",
    "print(f'Accuracy: {acc*100:.1f}%')"
   ]
  },
  {
   "cell_type": "markdown",
   "metadata": {},
   "source": [
    "This basic model gives decent accuracy, but the log-loss is quite high which can mean it is either too confident in its incorrect predictions or not very confident in its correct predictions. Now we will try to improve both of these metrics\n",
    "\n",
    "## Model improvement\n",
    "\n",
    "First we will try bagging on the `KNeighborsClassifier` from the baseline"
   ]
  },
  {
   "cell_type": "code",
   "execution_count": 11,
   "metadata": {},
   "outputs": [],
   "source": [
    "knn = KNeighborsClassifier()\n",
    "bag = BaggingClassifier(knn,\n",
    "                        n_estimators=20,\n",
    "                        oob_score=True,\n",
    "                        n_jobs=-1)\n",
    "model = Pipeline([\n",
    "    ('preprocess', prepper),\n",
    "    ('clf', bag)\n",
    "])"
   ]
  },
  {
   "cell_type": "code",
   "execution_count": 12,
   "metadata": {},
   "outputs": [
    {
     "name": "stderr",
     "output_type": "stream",
     "text": [
      "/opt/anaconda3/lib/python3.8/site-packages/sklearn/ensemble/_bagging.py:640: UserWarning: Some inputs do not have OOB scores. This probably means too few estimators were used to compute any reliable oob estimates.\n",
      "  warn(\"Some inputs do not have OOB scores. \"\n",
      "/opt/anaconda3/lib/python3.8/site-packages/sklearn/ensemble/_bagging.py:644: RuntimeWarning: invalid value encountered in true_divide\n",
      "  oob_decision_function = (predictions /\n"
     ]
    },
    {
     "name": "stdout",
     "output_type": "stream",
     "text": [
      "log loss: 1.05445\n",
      "Accuracy: 80.7%\n"
     ]
    }
   ],
   "source": [
    "model.fit(X_train, y_train)\n",
    "\n",
    "y_pred_probs = model.predict_proba(X_val)\n",
    "y_pred = np.argmax(y_pred_probs, axis=1)\n",
    "\n",
    "loss = log_loss(y_val, y_pred_probs)\n",
    "acc = accuracy_score(y_val, y_pred)\n",
    "print(f'log loss: {loss:.5f}')\n",
    "print(f'Accuracy: {acc*100:.1f}%')"
   ]
  },
  {
   "cell_type": "markdown",
   "metadata": {},
   "source": [
    "We get about the same level of accuracy, but a good improvement in log-loss. Now let's try a couple other simple yet common models\n",
    "\n",
    "Logistic Regression:"
   ]
  },
  {
   "cell_type": "code",
   "execution_count": 13,
   "metadata": {},
   "outputs": [
    {
     "name": "stdout",
     "output_type": "stream",
     "text": [
      "log loss: 0.54592\n",
      "Accuracy: 74.8%\n"
     ]
    }
   ],
   "source": [
    "model = Pipeline([\n",
    "    ('preprocess', prepper),\n",
    "    ('clf', LogisticRegression(max_iter=500))\n",
    "])\n",
    "\n",
    "model.fit(X_train, y_train)\n",
    "y_pred_probs = model.predict_proba(X_val)\n",
    "y_pred = np.argmax(y_pred_probs, axis=1)\n",
    "\n",
    "loss = log_loss(y_val, y_pred_probs)\n",
    "acc = accuracy_score(y_val, y_pred)\n",
    "print(f'log loss: {loss:.5f}')\n",
    "print(f'Accuracy: {acc*100:.1f}%')"
   ]
  },
  {
   "cell_type": "markdown",
   "metadata": {},
   "source": [
    "Worse accuracy but much better log-loss.\n",
    "\n",
    "Decision Tree:"
   ]
  },
  {
   "cell_type": "code",
   "execution_count": 14,
   "metadata": {},
   "outputs": [
    {
     "name": "stdout",
     "output_type": "stream",
     "text": [
      "log loss: 7.48918\n",
      "Accuracy: 78.3%\n"
     ]
    }
   ],
   "source": [
    "model = Pipeline([\n",
    "    ('preprocess', prepper),\n",
    "    ('clf', DecisionTreeClassifier())\n",
    "])\n",
    "\n",
    "model.fit(X_train, y_train)\n",
    "y_pred_probs = model.predict_proba(X_val)\n",
    "y_pred = np.argmax(y_pred_probs, axis=1)\n",
    "\n",
    "loss = log_loss(y_val, y_pred_probs)\n",
    "acc = accuracy_score(y_val, y_pred)\n",
    "print(f'log loss: {loss:.5f}')\n",
    "print(f'Accuracy: {acc*100:.1f}%')"
   ]
  },
  {
   "cell_type": "markdown",
   "metadata": {},
   "source": [
    "Slightly better accuracy than Logistic but horrendous log-loss. Let's try voting with these 3 models"
   ]
  },
  {
   "cell_type": "code",
   "execution_count": 15,
   "metadata": {},
   "outputs": [],
   "source": [
    "voter = VotingClassifier(estimators=[\n",
    "    ('knn', KNeighborsClassifier()),\n",
    "    ('logistic', LogisticRegression(max_iter=500)),\n",
    "    ('dtree', DecisionTreeClassifier())\n",
    "], voting='soft')"
   ]
  },
  {
   "cell_type": "code",
   "execution_count": 16,
   "metadata": {},
   "outputs": [
    {
     "name": "stdout",
     "output_type": "stream",
     "text": [
      "log loss: 0.45825\n",
      "Accuracy: 80.5%\n"
     ]
    }
   ],
   "source": [
    "model = Pipeline([\n",
    "    ('preprocess', prepper),\n",
    "    ('clf', voter)\n",
    "])\n",
    "\n",
    "model.fit(X_train, y_train)\n",
    "y_pred_probs = model.predict_proba(X_val)\n",
    "y_pred = np.argmax(y_pred_probs, axis=1)\n",
    "\n",
    "loss = log_loss(y_val, y_pred_probs)\n",
    "acc = accuracy_score(y_val, y_pred)\n",
    "print(f'log loss: {loss:.5f}')\n",
    "print(f'Accuracy: {acc*100:.1f}%')"
   ]
  },
  {
   "cell_type": "markdown",
   "metadata": {},
   "source": [
    "Not bad. Accuracy of KNN with an improvement on Logistic's log-loss. Now let's try some stronger algorithms.\n",
    "\n",
    "### More Robust models\n",
    "\n",
    "We will try 3 ensembling models. To save some work, we'll wrap these into a cross-validation with hyperparameter search."
   ]
  },
  {
   "cell_type": "code",
   "execution_count": 17,
   "metadata": {},
   "outputs": [],
   "source": [
    "class DummyEstimator(BaseEstimator):\n",
    "    \"Pass through class, methods are present but do nothing.\"\n",
    "    def fit(self): pass\n",
    "    def score(self): pass"
   ]
  },
  {
   "cell_type": "code",
   "execution_count": 18,
   "metadata": {},
   "outputs": [
    {
     "name": "stdout",
     "output_type": "stream",
     "text": [
      "Fitting 5 folds for each of 25 candidates, totalling 125 fits\n",
      "Best estimator:  RandomForestClassifier(criterion='entropy', max_features='log2',\n",
      "                       min_samples_leaf=2)\n"
     ]
    }
   ],
   "source": [
    "model = Pipeline([\n",
    "    ('preprocess', prepper),\n",
    "    ('clf', DummyEstimator())\n",
    "])\n",
    "\n",
    "search_space = [\n",
    "    {\n",
    "        'clf': [ExtraTreesClassifier()],\n",
    "        'clf__n_estimators': range(50, 301, 50),\n",
    "        'clf__min_samples_leaf': [1, 2],\n",
    "        'clf__criterion': ['gini', 'entropy']\n",
    "    },\n",
    "    {\n",
    "        'clf': [RandomForestClassifier()],\n",
    "        'clf__n_estimators': range(50, 301, 50),\n",
    "        'clf__min_samples_leaf': [1, 2],\n",
    "        'clf__max_features': ['sqrt', 'log2', 0.5],\n",
    "        'clf__criterion': ['gini', 'entropy']\n",
    "    },\n",
    "    {\n",
    "        'clf': [GradientBoostingClassifier()],\n",
    "        'clf__n_estimators': range(50, 301, 50),\n",
    "        'clf__max_depth': list(range(3, 6))+[None],\n",
    "        'clf__subsample': [0.8, 0.9, 1.0],\n",
    "        'clf__loss': ['deviance', 'exponential']        \n",
    "    }\n",
    "]\n",
    "\n",
    "\n",
    "clf_algos_rand = RandomizedSearchCV(estimator=model, \n",
    "                                    param_distributions=search_space, \n",
    "                                    n_iter=25,\n",
    "                                    cv=5, \n",
    "                                    n_jobs=-1,\n",
    "                                    verbose=1,\n",
    "                                    scoring='accuracy')\n",
    "\n",
    "clf_algos_rand.fit(X_train, y_train)\n",
    "print('Best estimator: ', clf_algos_rand.best_estimator_['clf'])"
   ]
  },
  {
   "cell_type": "markdown",
   "metadata": {},
   "source": [
    "Now we use the best estimator from above and see how it performs."
   ]
  },
  {
   "cell_type": "code",
   "execution_count": 19,
   "metadata": {},
   "outputs": [
    {
     "name": "stdout",
     "output_type": "stream",
     "text": [
      "log loss: 0.40096\n",
      "Accuracy: 83.8%\n"
     ]
    }
   ],
   "source": [
    "y_pred_probs = clf_algos_rand.best_estimator_.predict_proba(X_val)\n",
    "y_pred = np.argmax(y_pred_probs, axis=1)\n",
    "\n",
    "loss = log_loss(y_val, y_pred_probs)\n",
    "acc = accuracy_score(y_val, y_pred)\n",
    "print(f'log loss: {loss:.5f}')\n",
    "print(f'Accuracy: {acc*100:.1f}%')"
   ]
  },
  {
   "cell_type": "markdown",
   "metadata": {},
   "source": [
    "Pretty good! Nice jump in accuracy, and still lower log-loss. How about using this as a meta-learner in a stack? In order to make this work we need to define individual pipelines for each of the base estimators. Then we pass those in along with this meta-learner to a `StackingClassifier`. Let's see how it performs."
   ]
  },
  {
   "cell_type": "code",
   "execution_count": 20,
   "metadata": {},
   "outputs": [],
   "source": [
    "knn_pipe = Pipeline([\n",
    "    ('preprocess', prepper),\n",
    "    ('kneighbors', KNeighborsClassifier())\n",
    "])\n",
    "\n",
    "lr_pipe = Pipeline([\n",
    "    ('preprocess', prepper),\n",
    "    ('reg', LogisticRegression(max_iter=500))\n",
    "])\n",
    "\n",
    "dtree_pipe = Pipeline([\n",
    "    ('preprocess', prepper),\n",
    "    ('tree', DecisionTreeClassifier())\n",
    "])\n",
    "\n",
    "# Collect all base learner pipes to send into stack\n",
    "base_estimators = [\n",
    "    ('knn', knn_pipe),\n",
    "    ('lr', lr_pipe),\n",
    "    ('dtree', dtree_pipe)\n",
    "]\n",
    "\n",
    "# Create stack, passing original data on to meta-learner\n",
    "stack = StackingClassifier(estimators=base_estimators,\n",
    "                           final_estimator=clf_algos_rand.best_estimator_,\n",
    "                           passthrough=True,\n",
    "                           n_jobs=-1)"
   ]
  },
  {
   "cell_type": "code",
   "execution_count": 21,
   "metadata": {},
   "outputs": [
    {
     "name": "stdout",
     "output_type": "stream",
     "text": [
      "log loss: 0.32989\n",
      "Accuracy: 85.8%\n"
     ]
    }
   ],
   "source": [
    "stack.fit(X_train, y_train)\n",
    "y_pred_probs = stack.predict_proba(X_val)\n",
    "y_pred = np.argmax(y_pred_probs, axis=1)\n",
    "\n",
    "loss = log_loss(y_val, y_pred_probs)\n",
    "acc = accuracy_score(y_val, y_pred)\n",
    "print(f'log loss: {loss:.5f}')\n",
    "print(f'Accuracy: {acc*100:.1f}%')"
   ]
  },
  {
   "cell_type": "markdown",
   "metadata": {},
   "source": [
    "Nice! Fair improvement to both accuracy and log-loss. Finally, we'll give `XGBoost` a shot."
   ]
  },
  {
   "cell_type": "code",
   "execution_count": 22,
   "metadata": {},
   "outputs": [
    {
     "name": "stdout",
     "output_type": "stream",
     "text": [
      "log loss: 0.42927\n",
      "Accuracy: 82.6%\n"
     ]
    }
   ],
   "source": [
    "model = Pipeline([\n",
    "    ('preprocess', prepper),\n",
    "    ('clf', XGBClassifier(eval_metric='error', use_label_encoder=False, n_jobs=-1))\n",
    "])\n",
    "\n",
    "model.fit(X_train, y_train)\n",
    "y_pred_probs = model.predict_proba(X_val)\n",
    "y_pred = np.argmax(y_pred_probs, axis=1)\n",
    "\n",
    "loss = log_loss(y_val, y_pred_probs)\n",
    "acc = accuracy_score(y_val, y_pred)\n",
    "print(f'log loss: {loss:.5f}')\n",
    "print(f'Accuracy: {acc*100:.1f}%')"
   ]
  },
  {
   "cell_type": "markdown",
   "metadata": {},
   "source": [
    "Not terrible, but not worth it over the stack. We'll determine the stack as our final model.\n",
    "\n",
    "## Final Model"
   ]
  },
  {
   "cell_type": "code",
   "execution_count": 23,
   "metadata": {},
   "outputs": [],
   "source": [
    "# Redefine stack for refitting on all training & validation data\n",
    "final_stack = StackingClassifier(estimators=base_estimators,\n",
    "                                 final_estimator=clf_algos_rand.best_estimator_,\n",
    "                                 passthrough=True,\n",
    "                                 n_jobs=-1)"
   ]
  },
  {
   "cell_type": "code",
   "execution_count": 24,
   "metadata": {},
   "outputs": [],
   "source": [
    "X = pd.concat([X_train, X_val])\n",
    "y = LabelEncoder().fit_transform(y=X.koi_pdisposition.copy())"
   ]
  },
  {
   "cell_type": "markdown",
   "metadata": {},
   "source": [
    "### Fit on all data and eval on test set"
   ]
  },
  {
   "cell_type": "code",
   "execution_count": 25,
   "metadata": {},
   "outputs": [
    {
     "name": "stdout",
     "output_type": "stream",
     "text": [
      "log loss: 0.33312\n",
      "Accuracy: 85.6%\n"
     ]
    }
   ],
   "source": [
    "final_stack.fit(X, y)\n",
    "y_pred_probs = final_stack.predict_proba(X_test)\n",
    "y_pred = np.argmax(y_pred_probs, axis=1)\n",
    "\n",
    "loss = log_loss(y_test, y_pred_probs)\n",
    "acc = accuracy_score(y_test, y_pred)\n",
    "print(f'log loss: {loss:.5f}')\n",
    "print(f'Accuracy: {acc*100:.1f}%')"
   ]
  },
  {
   "cell_type": "markdown",
   "metadata": {},
   "source": [
    "Awesome! Now let's see what features helped us get here.\n",
    "\n",
    "### Check which features were most important"
   ]
  },
  {
   "cell_type": "code",
   "execution_count": 26,
   "metadata": {},
   "outputs": [],
   "source": [
    "r = permutation_importance(final_stack, X, y, n_repeats=30, n_jobs=-1)"
   ]
  },
  {
   "cell_type": "code",
   "execution_count": 27,
   "metadata": {},
   "outputs": [
    {
     "data": {
      "text/html": [
       "<div>\n",
       "<style scoped>\n",
       "    .dataframe tbody tr th:only-of-type {\n",
       "        vertical-align: middle;\n",
       "    }\n",
       "\n",
       "    .dataframe tbody tr th {\n",
       "        vertical-align: top;\n",
       "    }\n",
       "\n",
       "    .dataframe thead th {\n",
       "        text-align: right;\n",
       "    }\n",
       "</style>\n",
       "<table border=\"1\" class=\"dataframe\">\n",
       "  <thead>\n",
       "    <tr style=\"text-align: right;\">\n",
       "      <th></th>\n",
       "      <th>0</th>\n",
       "    </tr>\n",
       "  </thead>\n",
       "  <tbody>\n",
       "    <tr>\n",
       "      <th>koi_prad</th>\n",
       "      <td>0.116966</td>\n",
       "    </tr>\n",
       "    <tr>\n",
       "      <th>koi_duration</th>\n",
       "      <td>0.093745</td>\n",
       "    </tr>\n",
       "    <tr>\n",
       "      <th>koi_model_snr</th>\n",
       "      <td>0.077899</td>\n",
       "    </tr>\n",
       "    <tr>\n",
       "      <th>koi_period</th>\n",
       "      <td>0.067117</td>\n",
       "    </tr>\n",
       "    <tr>\n",
       "      <th>koi_time0bk</th>\n",
       "      <td>0.035220</td>\n",
       "    </tr>\n",
       "    <tr>\n",
       "      <th>koi_depth</th>\n",
       "      <td>0.030694</td>\n",
       "    </tr>\n",
       "    <tr>\n",
       "      <th>koi_slogg</th>\n",
       "      <td>0.029760</td>\n",
       "    </tr>\n",
       "    <tr>\n",
       "      <th>koi_impact</th>\n",
       "      <td>0.027966</td>\n",
       "    </tr>\n",
       "    <tr>\n",
       "      <th>koi_steff</th>\n",
       "      <td>0.023677</td>\n",
       "    </tr>\n",
       "    <tr>\n",
       "      <th>koi_insol</th>\n",
       "      <td>0.023403</td>\n",
       "    </tr>\n",
       "    <tr>\n",
       "      <th>koi_teq</th>\n",
       "      <td>0.018328</td>\n",
       "    </tr>\n",
       "    <tr>\n",
       "      <th>koi_srad</th>\n",
       "      <td>0.000000</td>\n",
       "    </tr>\n",
       "    <tr>\n",
       "      <th>koi_kepmag</th>\n",
       "      <td>0.000000</td>\n",
       "    </tr>\n",
       "    <tr>\n",
       "      <th>koi_tce_plnt_num</th>\n",
       "      <td>0.000000</td>\n",
       "    </tr>\n",
       "  </tbody>\n",
       "</table>\n",
       "</div>"
      ],
      "text/plain": [
       "                         0\n",
       "koi_prad          0.116966\n",
       "koi_duration      0.093745\n",
       "koi_model_snr     0.077899\n",
       "koi_period        0.067117\n",
       "koi_time0bk       0.035220\n",
       "koi_depth         0.030694\n",
       "koi_slogg         0.029760\n",
       "koi_impact        0.027966\n",
       "koi_steff         0.023677\n",
       "koi_insol         0.023403\n",
       "koi_teq           0.018328\n",
       "koi_srad          0.000000\n",
       "koi_kepmag        0.000000\n",
       "koi_tce_plnt_num  0.000000"
      ]
     },
     "execution_count": 27,
     "metadata": {},
     "output_type": "execute_result"
    }
   ],
   "source": [
    "num_cols = [\n",
    "    'koi_srad', 'koi_period', 'koi_time0bk',\n",
    "    'koi_impact', 'koi_duration', 'koi_depth',\n",
    "    'koi_prad', 'koi_teq', 'koi_insol',\n",
    "    'koi_model_snr', 'koi_steff', 'koi_slogg'\n",
    "]\n",
    "\n",
    "cat_cols = ['koi_kepmag', 'koi_tce_plnt_num']\n",
    "inputs = num_cols + cat_cols\n",
    "pd.DataFrame(data=r.importances_mean, index=X.columns).loc[inputs,:].sort_values(0, ascending=False)"
   ]
  },
  {
   "cell_type": "markdown",
   "metadata": {},
   "source": [
    "### Final model architecture:"
   ]
  },
  {
   "cell_type": "code",
   "execution_count": 28,
   "metadata": {},
   "outputs": [
    {
     "data": {
      "text/html": [
       "<style>div.sk-top-container {color: black;background-color: white;}div.sk-toggleable {background-color: white;}label.sk-toggleable__label {cursor: pointer;display: block;width: 100%;margin-bottom: 0;padding: 0.2em 0.3em;box-sizing: border-box;text-align: center;}div.sk-toggleable__content {max-height: 0;max-width: 0;overflow: hidden;text-align: left;background-color: #f0f8ff;}div.sk-toggleable__content pre {margin: 0.2em;color: black;border-radius: 0.25em;background-color: #f0f8ff;}input.sk-toggleable__control:checked~div.sk-toggleable__content {max-height: 200px;max-width: 100%;overflow: auto;}div.sk-estimator input.sk-toggleable__control:checked~label.sk-toggleable__label {background-color: #d4ebff;}div.sk-label input.sk-toggleable__control:checked~label.sk-toggleable__label {background-color: #d4ebff;}input.sk-hidden--visually {border: 0;clip: rect(1px 1px 1px 1px);clip: rect(1px, 1px, 1px, 1px);height: 1px;margin: -1px;overflow: hidden;padding: 0;position: absolute;width: 1px;}div.sk-estimator {font-family: monospace;background-color: #f0f8ff;margin: 0.25em 0.25em;border: 1px dotted black;border-radius: 0.25em;box-sizing: border-box;}div.sk-estimator:hover {background-color: #d4ebff;}div.sk-parallel-item::after {content: \"\";width: 100%;border-bottom: 1px solid gray;flex-grow: 1;}div.sk-label:hover label.sk-toggleable__label {background-color: #d4ebff;}div.sk-serial::before {content: \"\";position: absolute;border-left: 1px solid gray;box-sizing: border-box;top: 2em;bottom: 0;left: 50%;}div.sk-serial {display: flex;flex-direction: column;align-items: center;background-color: white;}div.sk-item {z-index: 1;}div.sk-parallel {display: flex;align-items: stretch;justify-content: center;background-color: white;}div.sk-parallel-item {display: flex;flex-direction: column;position: relative;background-color: white;}div.sk-parallel-item:first-child::after {align-self: flex-end;width: 50%;}div.sk-parallel-item:last-child::after {align-self: flex-start;width: 50%;}div.sk-parallel-item:only-child::after {width: 0;}div.sk-dashed-wrapped {border: 1px dashed gray;margin: 0.2em;box-sizing: border-box;padding-bottom: 0.1em;background-color: white;position: relative;}div.sk-label label {font-family: monospace;font-weight: bold;background-color: white;display: inline-block;line-height: 1.2em;}div.sk-label-container {position: relative;z-index: 2;text-align: center;}div.sk-container {display: inline-block;position: relative;}</style><div class=\"sk-top-container\"><div class=\"sk-container\"><div class=\"sk-item sk-dashed-wrapped\"><div class=\"sk-label-container\"><div class=\"sk-label sk-toggleable\"><input class=\"sk-toggleable__control sk-hidden--visually\" id=\"0335542f-9dd3-428e-8378-b2b45980634f\" type=\"checkbox\" ><label class=\"sk-toggleable__label\" for=\"0335542f-9dd3-428e-8378-b2b45980634f\">StackingClassifier</label><div class=\"sk-toggleable__content\"><pre>StackingClassifier(estimators=[('knn',\n",
       "                                Pipeline(steps=[('preprocess',\n",
       "                                                 ColumnTransformer(transformers=[('numeric',\n",
       "                                                                                  Pipeline(steps=[('imp',\n",
       "                                                                                                   SimpleImputer(strategy='median')),\n",
       "                                                                                                  ('scale',\n",
       "                                                                                                   RobustScaler())]),\n",
       "                                                                                  [43,\n",
       "                                                                                   10,\n",
       "                                                                                   13,\n",
       "                                                                                   16,\n",
       "                                                                                   19,\n",
       "                                                                                   22,\n",
       "                                                                                   25,\n",
       "                                                                                   28,\n",
       "                                                                                   31,\n",
       "                                                                                   34,\n",
       "                                                                                   37,\n",
       "                                                                                   40]),\n",
       "                                                                                 ('categorical',\n",
       "                                                                                  Pipeline(steps=[('imp',\n",
       "                                                                                                   SimpleImputer(strategy='most_frequent')),\n",
       "                                                                                                  ('bin',\n",
       "                                                                                                   ColumnTransformer(remainder='p...\n",
       "                                                                                                      RobustScaler())]),\n",
       "                                                                                     [43,\n",
       "                                                                                      10,\n",
       "                                                                                      13,\n",
       "                                                                                      16,\n",
       "                                                                                      19,\n",
       "                                                                                      22,\n",
       "                                                                                      25,\n",
       "                                                                                      28,\n",
       "                                                                                      31,\n",
       "                                                                                      34,\n",
       "                                                                                      37,\n",
       "                                                                                      40]),\n",
       "                                                                                    ('categorical',\n",
       "                                                                                     Pipeline(steps=[('imp',\n",
       "                                                                                                      SimpleImputer(strategy='most_frequent')),\n",
       "                                                                                                     ('bin',\n",
       "                                                                                                      ColumnTransformer(remainder='passthrough',\n",
       "                                                                                                                        transformers=[('bin',\n",
       "                                                                                                                                       KBinsDiscretizer(),\n",
       "                                                                                                                                       [0])]))]),\n",
       "                                                                                     [48,\n",
       "                                                                                      35])])),\n",
       "                                                   ('clf',\n",
       "                                                    RandomForestClassifier(criterion='entropy',\n",
       "                                                                           max_features='log2',\n",
       "                                                                           min_samples_leaf=2))]),\n",
       "                   n_jobs=-1, passthrough=True)</pre></div></div></div><div class=\"sk-serial\"><div class=\"sk-item\"><div class=\"sk-serial\"><div class=\"sk-item\"><div class=\"sk-parallel\"><div class=\"sk-parallel-item\"><div class=\"sk-item\"><div class=\"sk-label-container\"><div class=\"sk-label sk-toggleable\"><label>knn</label></div></div><div class=\"sk-serial\"><div class=\"sk-item\"><div class=\"sk-serial\"><div class=\"sk-item sk-dashed-wrapped\"><div class=\"sk-label-container\"><div class=\"sk-label sk-toggleable\"><input class=\"sk-toggleable__control sk-hidden--visually\" id=\"fe9aa321-5dde-4c69-bda3-513a466b3e22\" type=\"checkbox\" ><label class=\"sk-toggleable__label\" for=\"fe9aa321-5dde-4c69-bda3-513a466b3e22\">preprocess: ColumnTransformer</label><div class=\"sk-toggleable__content\"><pre>ColumnTransformer(transformers=[('numeric',\n",
       "                                 Pipeline(steps=[('imp',\n",
       "                                                  SimpleImputer(strategy='median')),\n",
       "                                                 ('scale', RobustScaler())]),\n",
       "                                 [43, 10, 13, 16, 19, 22, 25, 28, 31, 34, 37,\n",
       "                                  40]),\n",
       "                                ('categorical',\n",
       "                                 Pipeline(steps=[('imp',\n",
       "                                                  SimpleImputer(strategy='most_frequent')),\n",
       "                                                 ('bin',\n",
       "                                                  ColumnTransformer(remainder='passthrough',\n",
       "                                                                    transformers=[('bin',\n",
       "                                                                                   KBinsDiscretizer(),\n",
       "                                                                                   [0])]))]),\n",
       "                                 [48, 35])])</pre></div></div></div><div class=\"sk-parallel\"><div class=\"sk-parallel-item\"><div class=\"sk-item\"><div class=\"sk-label-container\"><div class=\"sk-label sk-toggleable\"><input class=\"sk-toggleable__control sk-hidden--visually\" id=\"b9a6ec5b-3c41-485f-b4da-54afd0ee32ef\" type=\"checkbox\" ><label class=\"sk-toggleable__label\" for=\"b9a6ec5b-3c41-485f-b4da-54afd0ee32ef\">numeric</label><div class=\"sk-toggleable__content\"><pre>[43, 10, 13, 16, 19, 22, 25, 28, 31, 34, 37, 40]</pre></div></div></div><div class=\"sk-serial\"><div class=\"sk-item\"><div class=\"sk-serial\"><div class=\"sk-item\"><div class=\"sk-estimator sk-toggleable\"><input class=\"sk-toggleable__control sk-hidden--visually\" id=\"0be8593e-8aa7-4914-8602-a9590627ade9\" type=\"checkbox\" ><label class=\"sk-toggleable__label\" for=\"0be8593e-8aa7-4914-8602-a9590627ade9\">SimpleImputer</label><div class=\"sk-toggleable__content\"><pre>SimpleImputer(strategy='median')</pre></div></div></div><div class=\"sk-item\"><div class=\"sk-estimator sk-toggleable\"><input class=\"sk-toggleable__control sk-hidden--visually\" id=\"49952a70-77de-43bd-be58-fd07e5e34caa\" type=\"checkbox\" ><label class=\"sk-toggleable__label\" for=\"49952a70-77de-43bd-be58-fd07e5e34caa\">RobustScaler</label><div class=\"sk-toggleable__content\"><pre>RobustScaler()</pre></div></div></div></div></div></div></div></div><div class=\"sk-parallel-item\"><div class=\"sk-item\"><div class=\"sk-label-container\"><div class=\"sk-label sk-toggleable\"><input class=\"sk-toggleable__control sk-hidden--visually\" id=\"2418400a-0ed2-4297-a962-2afa5cd95962\" type=\"checkbox\" ><label class=\"sk-toggleable__label\" for=\"2418400a-0ed2-4297-a962-2afa5cd95962\">categorical</label><div class=\"sk-toggleable__content\"><pre>[48, 35]</pre></div></div></div><div class=\"sk-serial\"><div class=\"sk-item\"><div class=\"sk-serial\"><div class=\"sk-item\"><div class=\"sk-estimator sk-toggleable\"><input class=\"sk-toggleable__control sk-hidden--visually\" id=\"79162059-ef17-4fc9-8103-4158e986790a\" type=\"checkbox\" ><label class=\"sk-toggleable__label\" for=\"79162059-ef17-4fc9-8103-4158e986790a\">SimpleImputer</label><div class=\"sk-toggleable__content\"><pre>SimpleImputer(strategy='most_frequent')</pre></div></div></div><div class=\"sk-item sk-dashed-wrapped\"><div class=\"sk-label-container\"><div class=\"sk-label sk-toggleable\"><input class=\"sk-toggleable__control sk-hidden--visually\" id=\"5cb06dd6-0102-4e81-afcd-b9499106c016\" type=\"checkbox\" ><label class=\"sk-toggleable__label\" for=\"5cb06dd6-0102-4e81-afcd-b9499106c016\">bin: ColumnTransformer</label><div class=\"sk-toggleable__content\"><pre>ColumnTransformer(remainder='passthrough',\n",
       "                  transformers=[('bin', KBinsDiscretizer(), [0])])</pre></div></div></div><div class=\"sk-parallel\"><div class=\"sk-parallel-item\"><div class=\"sk-item\"><div class=\"sk-label-container\"><div class=\"sk-label sk-toggleable\"><input class=\"sk-toggleable__control sk-hidden--visually\" id=\"87dddede-723f-4e22-a38b-16daae4ac91b\" type=\"checkbox\" ><label class=\"sk-toggleable__label\" for=\"87dddede-723f-4e22-a38b-16daae4ac91b\">bin</label><div class=\"sk-toggleable__content\"><pre>[0]</pre></div></div></div><div class=\"sk-serial\"><div class=\"sk-item\"><div class=\"sk-estimator sk-toggleable\"><input class=\"sk-toggleable__control sk-hidden--visually\" id=\"8011a0d9-8f93-4139-9946-b041732b8737\" type=\"checkbox\" ><label class=\"sk-toggleable__label\" for=\"8011a0d9-8f93-4139-9946-b041732b8737\">KBinsDiscretizer</label><div class=\"sk-toggleable__content\"><pre>KBinsDiscretizer()</pre></div></div></div></div></div></div><div class=\"sk-parallel-item\"><div class=\"sk-item\"><div class=\"sk-label-container\"><div class=\"sk-label sk-toggleable\"><input class=\"sk-toggleable__control sk-hidden--visually\" id=\"3083e041-6941-42c0-847a-c9e916f2c003\" type=\"checkbox\" ><label class=\"sk-toggleable__label\" for=\"3083e041-6941-42c0-847a-c9e916f2c003\">remainder</label><div class=\"sk-toggleable__content\"><pre></pre></div></div></div><div class=\"sk-serial\"><div class=\"sk-item\"><div class=\"sk-estimator sk-toggleable\"><input class=\"sk-toggleable__control sk-hidden--visually\" id=\"222024bc-2450-4d13-b1da-efa43d43f9b2\" type=\"checkbox\" ><label class=\"sk-toggleable__label\" for=\"222024bc-2450-4d13-b1da-efa43d43f9b2\">passthrough</label><div class=\"sk-toggleable__content\"><pre>passthrough</pre></div></div></div></div></div></div></div></div></div></div></div></div></div></div></div><div class=\"sk-item\"><div class=\"sk-estimator sk-toggleable\"><input class=\"sk-toggleable__control sk-hidden--visually\" id=\"9f3a2561-5376-445f-b8f4-e49fdc48250b\" type=\"checkbox\" ><label class=\"sk-toggleable__label\" for=\"9f3a2561-5376-445f-b8f4-e49fdc48250b\">KNeighborsClassifier</label><div class=\"sk-toggleable__content\"><pre>KNeighborsClassifier()</pre></div></div></div></div></div></div></div></div><div class=\"sk-parallel-item\"><div class=\"sk-item\"><div class=\"sk-label-container\"><div class=\"sk-label sk-toggleable\"><label>lr</label></div></div><div class=\"sk-serial\"><div class=\"sk-item\"><div class=\"sk-serial\"><div class=\"sk-item sk-dashed-wrapped\"><div class=\"sk-label-container\"><div class=\"sk-label sk-toggleable\"><input class=\"sk-toggleable__control sk-hidden--visually\" id=\"d54d54b9-9adb-4f16-b0af-56f064efccb3\" type=\"checkbox\" ><label class=\"sk-toggleable__label\" for=\"d54d54b9-9adb-4f16-b0af-56f064efccb3\">preprocess: ColumnTransformer</label><div class=\"sk-toggleable__content\"><pre>ColumnTransformer(transformers=[('numeric',\n",
       "                                 Pipeline(steps=[('imp',\n",
       "                                                  SimpleImputer(strategy='median')),\n",
       "                                                 ('scale', RobustScaler())]),\n",
       "                                 [43, 10, 13, 16, 19, 22, 25, 28, 31, 34, 37,\n",
       "                                  40]),\n",
       "                                ('categorical',\n",
       "                                 Pipeline(steps=[('imp',\n",
       "                                                  SimpleImputer(strategy='most_frequent')),\n",
       "                                                 ('bin',\n",
       "                                                  ColumnTransformer(remainder='passthrough',\n",
       "                                                                    transformers=[('bin',\n",
       "                                                                                   KBinsDiscretizer(),\n",
       "                                                                                   [0])]))]),\n",
       "                                 [48, 35])])</pre></div></div></div><div class=\"sk-parallel\"><div class=\"sk-parallel-item\"><div class=\"sk-item\"><div class=\"sk-label-container\"><div class=\"sk-label sk-toggleable\"><input class=\"sk-toggleable__control sk-hidden--visually\" id=\"b280fd49-419b-4281-aba4-ba3757241c74\" type=\"checkbox\" ><label class=\"sk-toggleable__label\" for=\"b280fd49-419b-4281-aba4-ba3757241c74\">numeric</label><div class=\"sk-toggleable__content\"><pre>[43, 10, 13, 16, 19, 22, 25, 28, 31, 34, 37, 40]</pre></div></div></div><div class=\"sk-serial\"><div class=\"sk-item\"><div class=\"sk-serial\"><div class=\"sk-item\"><div class=\"sk-estimator sk-toggleable\"><input class=\"sk-toggleable__control sk-hidden--visually\" id=\"96021f3d-f461-4e57-9dd7-c44a34f687c9\" type=\"checkbox\" ><label class=\"sk-toggleable__label\" for=\"96021f3d-f461-4e57-9dd7-c44a34f687c9\">SimpleImputer</label><div class=\"sk-toggleable__content\"><pre>SimpleImputer(strategy='median')</pre></div></div></div><div class=\"sk-item\"><div class=\"sk-estimator sk-toggleable\"><input class=\"sk-toggleable__control sk-hidden--visually\" id=\"8a0013b2-1a15-4018-9704-7866c07fef77\" type=\"checkbox\" ><label class=\"sk-toggleable__label\" for=\"8a0013b2-1a15-4018-9704-7866c07fef77\">RobustScaler</label><div class=\"sk-toggleable__content\"><pre>RobustScaler()</pre></div></div></div></div></div></div></div></div><div class=\"sk-parallel-item\"><div class=\"sk-item\"><div class=\"sk-label-container\"><div class=\"sk-label sk-toggleable\"><input class=\"sk-toggleable__control sk-hidden--visually\" id=\"ec642ec1-2264-4a94-a225-0c3765c11a5d\" type=\"checkbox\" ><label class=\"sk-toggleable__label\" for=\"ec642ec1-2264-4a94-a225-0c3765c11a5d\">categorical</label><div class=\"sk-toggleable__content\"><pre>[48, 35]</pre></div></div></div><div class=\"sk-serial\"><div class=\"sk-item\"><div class=\"sk-serial\"><div class=\"sk-item\"><div class=\"sk-estimator sk-toggleable\"><input class=\"sk-toggleable__control sk-hidden--visually\" id=\"87068cfc-0025-44fc-a3ee-a9ea990bd029\" type=\"checkbox\" ><label class=\"sk-toggleable__label\" for=\"87068cfc-0025-44fc-a3ee-a9ea990bd029\">SimpleImputer</label><div class=\"sk-toggleable__content\"><pre>SimpleImputer(strategy='most_frequent')</pre></div></div></div><div class=\"sk-item sk-dashed-wrapped\"><div class=\"sk-label-container\"><div class=\"sk-label sk-toggleable\"><input class=\"sk-toggleable__control sk-hidden--visually\" id=\"5eb0dbcc-cd81-4294-8911-1820ce968318\" type=\"checkbox\" ><label class=\"sk-toggleable__label\" for=\"5eb0dbcc-cd81-4294-8911-1820ce968318\">bin: ColumnTransformer</label><div class=\"sk-toggleable__content\"><pre>ColumnTransformer(remainder='passthrough',\n",
       "                  transformers=[('bin', KBinsDiscretizer(), [0])])</pre></div></div></div><div class=\"sk-parallel\"><div class=\"sk-parallel-item\"><div class=\"sk-item\"><div class=\"sk-label-container\"><div class=\"sk-label sk-toggleable\"><input class=\"sk-toggleable__control sk-hidden--visually\" id=\"bd12f9c5-8f8e-4445-9dd5-7bb354b6f079\" type=\"checkbox\" ><label class=\"sk-toggleable__label\" for=\"bd12f9c5-8f8e-4445-9dd5-7bb354b6f079\">bin</label><div class=\"sk-toggleable__content\"><pre>[0]</pre></div></div></div><div class=\"sk-serial\"><div class=\"sk-item\"><div class=\"sk-estimator sk-toggleable\"><input class=\"sk-toggleable__control sk-hidden--visually\" id=\"4f79976a-c709-4453-b2c8-e329c4c2482a\" type=\"checkbox\" ><label class=\"sk-toggleable__label\" for=\"4f79976a-c709-4453-b2c8-e329c4c2482a\">KBinsDiscretizer</label><div class=\"sk-toggleable__content\"><pre>KBinsDiscretizer()</pre></div></div></div></div></div></div><div class=\"sk-parallel-item\"><div class=\"sk-item\"><div class=\"sk-label-container\"><div class=\"sk-label sk-toggleable\"><input class=\"sk-toggleable__control sk-hidden--visually\" id=\"1a03dc1d-80dc-4470-92e8-98c49e2677ec\" type=\"checkbox\" ><label class=\"sk-toggleable__label\" for=\"1a03dc1d-80dc-4470-92e8-98c49e2677ec\">remainder</label><div class=\"sk-toggleable__content\"><pre></pre></div></div></div><div class=\"sk-serial\"><div class=\"sk-item\"><div class=\"sk-estimator sk-toggleable\"><input class=\"sk-toggleable__control sk-hidden--visually\" id=\"664bbc22-1441-4b82-ae4d-55262692576b\" type=\"checkbox\" ><label class=\"sk-toggleable__label\" for=\"664bbc22-1441-4b82-ae4d-55262692576b\">passthrough</label><div class=\"sk-toggleable__content\"><pre>passthrough</pre></div></div></div></div></div></div></div></div></div></div></div></div></div></div></div><div class=\"sk-item\"><div class=\"sk-estimator sk-toggleable\"><input class=\"sk-toggleable__control sk-hidden--visually\" id=\"b070a54d-0c8f-460c-8751-775e98f106ed\" type=\"checkbox\" ><label class=\"sk-toggleable__label\" for=\"b070a54d-0c8f-460c-8751-775e98f106ed\">LogisticRegression</label><div class=\"sk-toggleable__content\"><pre>LogisticRegression(max_iter=500)</pre></div></div></div></div></div></div></div></div><div class=\"sk-parallel-item\"><div class=\"sk-item\"><div class=\"sk-label-container\"><div class=\"sk-label sk-toggleable\"><label>dtree</label></div></div><div class=\"sk-serial\"><div class=\"sk-item\"><div class=\"sk-serial\"><div class=\"sk-item sk-dashed-wrapped\"><div class=\"sk-label-container\"><div class=\"sk-label sk-toggleable\"><input class=\"sk-toggleable__control sk-hidden--visually\" id=\"112ca4f8-2113-4f02-97e7-cdeabbfa49fe\" type=\"checkbox\" ><label class=\"sk-toggleable__label\" for=\"112ca4f8-2113-4f02-97e7-cdeabbfa49fe\">preprocess: ColumnTransformer</label><div class=\"sk-toggleable__content\"><pre>ColumnTransformer(transformers=[('numeric',\n",
       "                                 Pipeline(steps=[('imp',\n",
       "                                                  SimpleImputer(strategy='median')),\n",
       "                                                 ('scale', RobustScaler())]),\n",
       "                                 [43, 10, 13, 16, 19, 22, 25, 28, 31, 34, 37,\n",
       "                                  40]),\n",
       "                                ('categorical',\n",
       "                                 Pipeline(steps=[('imp',\n",
       "                                                  SimpleImputer(strategy='most_frequent')),\n",
       "                                                 ('bin',\n",
       "                                                  ColumnTransformer(remainder='passthrough',\n",
       "                                                                    transformers=[('bin',\n",
       "                                                                                   KBinsDiscretizer(),\n",
       "                                                                                   [0])]))]),\n",
       "                                 [48, 35])])</pre></div></div></div><div class=\"sk-parallel\"><div class=\"sk-parallel-item\"><div class=\"sk-item\"><div class=\"sk-label-container\"><div class=\"sk-label sk-toggleable\"><input class=\"sk-toggleable__control sk-hidden--visually\" id=\"30ddfa20-f8a2-4b46-9915-f1fe5805d3ed\" type=\"checkbox\" ><label class=\"sk-toggleable__label\" for=\"30ddfa20-f8a2-4b46-9915-f1fe5805d3ed\">numeric</label><div class=\"sk-toggleable__content\"><pre>[43, 10, 13, 16, 19, 22, 25, 28, 31, 34, 37, 40]</pre></div></div></div><div class=\"sk-serial\"><div class=\"sk-item\"><div class=\"sk-serial\"><div class=\"sk-item\"><div class=\"sk-estimator sk-toggleable\"><input class=\"sk-toggleable__control sk-hidden--visually\" id=\"27c2dec0-00f3-444f-b2ce-dc483a29cb51\" type=\"checkbox\" ><label class=\"sk-toggleable__label\" for=\"27c2dec0-00f3-444f-b2ce-dc483a29cb51\">SimpleImputer</label><div class=\"sk-toggleable__content\"><pre>SimpleImputer(strategy='median')</pre></div></div></div><div class=\"sk-item\"><div class=\"sk-estimator sk-toggleable\"><input class=\"sk-toggleable__control sk-hidden--visually\" id=\"97b84501-531b-4940-8b77-77458f0d0ef5\" type=\"checkbox\" ><label class=\"sk-toggleable__label\" for=\"97b84501-531b-4940-8b77-77458f0d0ef5\">RobustScaler</label><div class=\"sk-toggleable__content\"><pre>RobustScaler()</pre></div></div></div></div></div></div></div></div><div class=\"sk-parallel-item\"><div class=\"sk-item\"><div class=\"sk-label-container\"><div class=\"sk-label sk-toggleable\"><input class=\"sk-toggleable__control sk-hidden--visually\" id=\"cb2fbef4-ec41-411c-ae18-2e3f37a9c6e9\" type=\"checkbox\" ><label class=\"sk-toggleable__label\" for=\"cb2fbef4-ec41-411c-ae18-2e3f37a9c6e9\">categorical</label><div class=\"sk-toggleable__content\"><pre>[48, 35]</pre></div></div></div><div class=\"sk-serial\"><div class=\"sk-item\"><div class=\"sk-serial\"><div class=\"sk-item\"><div class=\"sk-estimator sk-toggleable\"><input class=\"sk-toggleable__control sk-hidden--visually\" id=\"2d6c0e1f-997c-4654-a87d-2f63f8630377\" type=\"checkbox\" ><label class=\"sk-toggleable__label\" for=\"2d6c0e1f-997c-4654-a87d-2f63f8630377\">SimpleImputer</label><div class=\"sk-toggleable__content\"><pre>SimpleImputer(strategy='most_frequent')</pre></div></div></div><div class=\"sk-item sk-dashed-wrapped\"><div class=\"sk-label-container\"><div class=\"sk-label sk-toggleable\"><input class=\"sk-toggleable__control sk-hidden--visually\" id=\"c163229c-54fa-43b2-8775-a52b2b1e4bc9\" type=\"checkbox\" ><label class=\"sk-toggleable__label\" for=\"c163229c-54fa-43b2-8775-a52b2b1e4bc9\">bin: ColumnTransformer</label><div class=\"sk-toggleable__content\"><pre>ColumnTransformer(remainder='passthrough',\n",
       "                  transformers=[('bin', KBinsDiscretizer(), [0])])</pre></div></div></div><div class=\"sk-parallel\"><div class=\"sk-parallel-item\"><div class=\"sk-item\"><div class=\"sk-label-container\"><div class=\"sk-label sk-toggleable\"><input class=\"sk-toggleable__control sk-hidden--visually\" id=\"a7bc89ba-cf9d-4a3b-81c7-aa2d5a3288fa\" type=\"checkbox\" ><label class=\"sk-toggleable__label\" for=\"a7bc89ba-cf9d-4a3b-81c7-aa2d5a3288fa\">bin</label><div class=\"sk-toggleable__content\"><pre>[0]</pre></div></div></div><div class=\"sk-serial\"><div class=\"sk-item\"><div class=\"sk-estimator sk-toggleable\"><input class=\"sk-toggleable__control sk-hidden--visually\" id=\"f4bd3f1a-9499-4dfb-855b-e0a14ef51235\" type=\"checkbox\" ><label class=\"sk-toggleable__label\" for=\"f4bd3f1a-9499-4dfb-855b-e0a14ef51235\">KBinsDiscretizer</label><div class=\"sk-toggleable__content\"><pre>KBinsDiscretizer()</pre></div></div></div></div></div></div><div class=\"sk-parallel-item\"><div class=\"sk-item\"><div class=\"sk-label-container\"><div class=\"sk-label sk-toggleable\"><input class=\"sk-toggleable__control sk-hidden--visually\" id=\"77f6be44-dcff-4290-95ae-9f1cdd4cf89b\" type=\"checkbox\" ><label class=\"sk-toggleable__label\" for=\"77f6be44-dcff-4290-95ae-9f1cdd4cf89b\">remainder</label><div class=\"sk-toggleable__content\"><pre></pre></div></div></div><div class=\"sk-serial\"><div class=\"sk-item\"><div class=\"sk-estimator sk-toggleable\"><input class=\"sk-toggleable__control sk-hidden--visually\" id=\"015b1cb5-80d6-48cd-8eee-ddb2be91fd2b\" type=\"checkbox\" ><label class=\"sk-toggleable__label\" for=\"015b1cb5-80d6-48cd-8eee-ddb2be91fd2b\">passthrough</label><div class=\"sk-toggleable__content\"><pre>passthrough</pre></div></div></div></div></div></div></div></div></div></div></div></div></div></div></div><div class=\"sk-item\"><div class=\"sk-estimator sk-toggleable\"><input class=\"sk-toggleable__control sk-hidden--visually\" id=\"9f315103-e440-4566-b3ad-785df2d11f02\" type=\"checkbox\" ><label class=\"sk-toggleable__label\" for=\"9f315103-e440-4566-b3ad-785df2d11f02\">DecisionTreeClassifier</label><div class=\"sk-toggleable__content\"><pre>DecisionTreeClassifier()</pre></div></div></div></div></div></div></div></div></div></div><div class=\"sk-item\"><div class=\"sk-serial\"><div class=\"sk-item sk-dashed-wrapped\"><div class=\"sk-label-container\"><div class=\"sk-label sk-toggleable\"><input class=\"sk-toggleable__control sk-hidden--visually\" id=\"fe01f589-7acb-44e2-904d-596c8f253410\" type=\"checkbox\" ><label class=\"sk-toggleable__label\" for=\"fe01f589-7acb-44e2-904d-596c8f253410\">preprocess: ColumnTransformer</label><div class=\"sk-toggleable__content\"><pre>ColumnTransformer(transformers=[('numeric',\n",
       "                                 Pipeline(steps=[('imp',\n",
       "                                                  SimpleImputer(strategy='median')),\n",
       "                                                 ('scale', RobustScaler())]),\n",
       "                                 [43, 10, 13, 16, 19, 22, 25, 28, 31, 34, 37,\n",
       "                                  40]),\n",
       "                                ('categorical',\n",
       "                                 Pipeline(steps=[('imp',\n",
       "                                                  SimpleImputer(strategy='most_frequent')),\n",
       "                                                 ('bin',\n",
       "                                                  ColumnTransformer(remainder='passthrough',\n",
       "                                                                    transformers=[('bin',\n",
       "                                                                                   KBinsDiscretizer(),\n",
       "                                                                                   [0])]))]),\n",
       "                                 [48, 35])])</pre></div></div></div><div class=\"sk-parallel\"><div class=\"sk-parallel-item\"><div class=\"sk-item\"><div class=\"sk-label-container\"><div class=\"sk-label sk-toggleable\"><input class=\"sk-toggleable__control sk-hidden--visually\" id=\"cfc6c530-f11c-4cfd-bee9-6b0b395869b5\" type=\"checkbox\" ><label class=\"sk-toggleable__label\" for=\"cfc6c530-f11c-4cfd-bee9-6b0b395869b5\">numeric</label><div class=\"sk-toggleable__content\"><pre>[43, 10, 13, 16, 19, 22, 25, 28, 31, 34, 37, 40]</pre></div></div></div><div class=\"sk-serial\"><div class=\"sk-item\"><div class=\"sk-serial\"><div class=\"sk-item\"><div class=\"sk-estimator sk-toggleable\"><input class=\"sk-toggleable__control sk-hidden--visually\" id=\"fcc8d09d-c6d4-44f3-907c-520499db3268\" type=\"checkbox\" ><label class=\"sk-toggleable__label\" for=\"fcc8d09d-c6d4-44f3-907c-520499db3268\">SimpleImputer</label><div class=\"sk-toggleable__content\"><pre>SimpleImputer(strategy='median')</pre></div></div></div><div class=\"sk-item\"><div class=\"sk-estimator sk-toggleable\"><input class=\"sk-toggleable__control sk-hidden--visually\" id=\"f7f968f2-cb82-46d5-a2a7-1d99ac676ffc\" type=\"checkbox\" ><label class=\"sk-toggleable__label\" for=\"f7f968f2-cb82-46d5-a2a7-1d99ac676ffc\">RobustScaler</label><div class=\"sk-toggleable__content\"><pre>RobustScaler()</pre></div></div></div></div></div></div></div></div><div class=\"sk-parallel-item\"><div class=\"sk-item\"><div class=\"sk-label-container\"><div class=\"sk-label sk-toggleable\"><input class=\"sk-toggleable__control sk-hidden--visually\" id=\"3a9cff65-db46-4bcc-973e-08a5f5081ddf\" type=\"checkbox\" ><label class=\"sk-toggleable__label\" for=\"3a9cff65-db46-4bcc-973e-08a5f5081ddf\">categorical</label><div class=\"sk-toggleable__content\"><pre>[48, 35]</pre></div></div></div><div class=\"sk-serial\"><div class=\"sk-item\"><div class=\"sk-serial\"><div class=\"sk-item\"><div class=\"sk-estimator sk-toggleable\"><input class=\"sk-toggleable__control sk-hidden--visually\" id=\"dd599d01-1ea2-4cff-a8d0-8a6a8aa322d0\" type=\"checkbox\" ><label class=\"sk-toggleable__label\" for=\"dd599d01-1ea2-4cff-a8d0-8a6a8aa322d0\">SimpleImputer</label><div class=\"sk-toggleable__content\"><pre>SimpleImputer(strategy='most_frequent')</pre></div></div></div><div class=\"sk-item sk-dashed-wrapped\"><div class=\"sk-label-container\"><div class=\"sk-label sk-toggleable\"><input class=\"sk-toggleable__control sk-hidden--visually\" id=\"1c0eb000-eb75-4416-b387-6a6b55270f1b\" type=\"checkbox\" ><label class=\"sk-toggleable__label\" for=\"1c0eb000-eb75-4416-b387-6a6b55270f1b\">bin: ColumnTransformer</label><div class=\"sk-toggleable__content\"><pre>ColumnTransformer(remainder='passthrough',\n",
       "                  transformers=[('bin', KBinsDiscretizer(), [0])])</pre></div></div></div><div class=\"sk-parallel\"><div class=\"sk-parallel-item\"><div class=\"sk-item\"><div class=\"sk-label-container\"><div class=\"sk-label sk-toggleable\"><input class=\"sk-toggleable__control sk-hidden--visually\" id=\"de979a69-fe3f-429a-af9c-e7f94f91d1d0\" type=\"checkbox\" ><label class=\"sk-toggleable__label\" for=\"de979a69-fe3f-429a-af9c-e7f94f91d1d0\">bin</label><div class=\"sk-toggleable__content\"><pre>[0]</pre></div></div></div><div class=\"sk-serial\"><div class=\"sk-item\"><div class=\"sk-estimator sk-toggleable\"><input class=\"sk-toggleable__control sk-hidden--visually\" id=\"e2b70936-ae28-452b-a1ec-ef720c3d7126\" type=\"checkbox\" ><label class=\"sk-toggleable__label\" for=\"e2b70936-ae28-452b-a1ec-ef720c3d7126\">KBinsDiscretizer</label><div class=\"sk-toggleable__content\"><pre>KBinsDiscretizer()</pre></div></div></div></div></div></div><div class=\"sk-parallel-item\"><div class=\"sk-item\"><div class=\"sk-label-container\"><div class=\"sk-label sk-toggleable\"><input class=\"sk-toggleable__control sk-hidden--visually\" id=\"673062c8-3986-4fac-8fdd-a52866f3c580\" type=\"checkbox\" ><label class=\"sk-toggleable__label\" for=\"673062c8-3986-4fac-8fdd-a52866f3c580\">remainder</label><div class=\"sk-toggleable__content\"><pre></pre></div></div></div><div class=\"sk-serial\"><div class=\"sk-item\"><div class=\"sk-estimator sk-toggleable\"><input class=\"sk-toggleable__control sk-hidden--visually\" id=\"13b7a605-13be-4254-a7d9-0dc2a6ae8319\" type=\"checkbox\" ><label class=\"sk-toggleable__label\" for=\"13b7a605-13be-4254-a7d9-0dc2a6ae8319\">passthrough</label><div class=\"sk-toggleable__content\"><pre>passthrough</pre></div></div></div></div></div></div></div></div></div></div></div></div></div></div></div><div class=\"sk-item\"><div class=\"sk-estimator sk-toggleable\"><input class=\"sk-toggleable__control sk-hidden--visually\" id=\"0eaf2538-6fbd-479e-a2b5-16106040f4df\" type=\"checkbox\" ><label class=\"sk-toggleable__label\" for=\"0eaf2538-6fbd-479e-a2b5-16106040f4df\">RandomForestClassifier</label><div class=\"sk-toggleable__content\"><pre>RandomForestClassifier(criterion='entropy', max_features='log2',\n",
       "                       min_samples_leaf=2)</pre></div></div></div></div></div></div></div></div></div></div></div>"
      ],
      "text/plain": [
       "StackingClassifier(estimators=[('knn',\n",
       "                                Pipeline(steps=[('preprocess',\n",
       "                                                 ColumnTransformer(transformers=[('numeric',\n",
       "                                                                                  Pipeline(steps=[('imp',\n",
       "                                                                                                   SimpleImputer(strategy='median')),\n",
       "                                                                                                  ('scale',\n",
       "                                                                                                   RobustScaler())]),\n",
       "                                                                                  [43,\n",
       "                                                                                   10,\n",
       "                                                                                   13,\n",
       "                                                                                   16,\n",
       "                                                                                   19,\n",
       "                                                                                   22,\n",
       "                                                                                   25,\n",
       "                                                                                   28,\n",
       "                                                                                   31,\n",
       "                                                                                   34,\n",
       "                                                                                   37,\n",
       "                                                                                   40]),\n",
       "                                                                                 ('categorical',\n",
       "                                                                                  Pipeline(steps=[('imp',\n",
       "                                                                                                   SimpleImputer(strategy='most_frequent')),\n",
       "                                                                                                  ('bin',\n",
       "                                                                                                   ColumnTransformer(remainder='p...\n",
       "                                                                                                      RobustScaler())]),\n",
       "                                                                                     [43,\n",
       "                                                                                      10,\n",
       "                                                                                      13,\n",
       "                                                                                      16,\n",
       "                                                                                      19,\n",
       "                                                                                      22,\n",
       "                                                                                      25,\n",
       "                                                                                      28,\n",
       "                                                                                      31,\n",
       "                                                                                      34,\n",
       "                                                                                      37,\n",
       "                                                                                      40]),\n",
       "                                                                                    ('categorical',\n",
       "                                                                                     Pipeline(steps=[('imp',\n",
       "                                                                                                      SimpleImputer(strategy='most_frequent')),\n",
       "                                                                                                     ('bin',\n",
       "                                                                                                      ColumnTransformer(remainder='passthrough',\n",
       "                                                                                                                        transformers=[('bin',\n",
       "                                                                                                                                       KBinsDiscretizer(),\n",
       "                                                                                                                                       [0])]))]),\n",
       "                                                                                     [48,\n",
       "                                                                                      35])])),\n",
       "                                                   ('clf',\n",
       "                                                    RandomForestClassifier(criterion='entropy',\n",
       "                                                                           max_features='log2',\n",
       "                                                                           min_samples_leaf=2))]),\n",
       "                   n_jobs=-1, passthrough=True)"
      ]
     },
     "execution_count": 28,
     "metadata": {},
     "output_type": "execute_result"
    }
   ],
   "source": [
    "set_config(display='diagram')\n",
    "\n",
    "final_stack"
   ]
  }
 ],
 "metadata": {
  "kernelspec": {
   "display_name": "Python 3",
   "language": "python",
   "name": "python3"
  },
  "language_info": {
   "codemirror_mode": {
    "name": "ipython",
    "version": 3
   },
   "file_extension": ".py",
   "mimetype": "text/x-python",
   "name": "python",
   "nbconvert_exporter": "python",
   "pygments_lexer": "ipython3",
   "version": "3.8.2"
  }
 },
 "nbformat": 4,
 "nbformat_minor": 4
}
